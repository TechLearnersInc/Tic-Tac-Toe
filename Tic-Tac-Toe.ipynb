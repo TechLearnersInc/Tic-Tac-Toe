{
 "cells": [
  {
   "cell_type": "markdown",
   "metadata": {},
   "source": [
    "<h1 align=\"center\">\n",
    "    Tic Tac Toe\n",
    "</h1>"
   ]
  },
  {
   "cell_type": "code",
   "execution_count": 1,
   "metadata": {
    "execution": {
     "iopub.execute_input": "2020-11-26T15:51:26.904641Z",
     "iopub.status.busy": "2020-11-26T15:51:26.903945Z",
     "iopub.status.idle": "2020-11-26T15:51:27.134056Z",
     "shell.execute_reply": "2020-11-26T15:51:27.133598Z",
     "shell.execute_reply.started": "2020-11-26T15:51:26.904474Z"
    }
   },
   "outputs": [],
   "source": [
    "import sys\n",
    "import sqlite3\n",
    "import numpy as np\n",
    "import pandas as pd"
   ]
  },
  {
   "cell_type": "code",
   "execution_count": 2,
   "metadata": {
    "execution": {
     "iopub.execute_input": "2020-11-26T15:51:27.134835Z",
     "iopub.status.busy": "2020-11-26T15:51:27.134719Z",
     "iopub.status.idle": "2020-11-26T15:51:27.279592Z",
     "shell.execute_reply": "2020-11-26T15:51:27.279120Z",
     "shell.execute_reply.started": "2020-11-26T15:51:27.134821Z"
    }
   },
   "outputs": [],
   "source": [
    "import matplotlib.pyplot as plt\n",
    "%matplotlib inline"
   ]
  },
  {
   "cell_type": "code",
   "execution_count": 3,
   "metadata": {
    "execution": {
     "iopub.execute_input": "2020-11-26T15:51:27.280751Z",
     "iopub.status.busy": "2020-11-26T15:51:27.280575Z",
     "iopub.status.idle": "2020-11-26T15:51:27.478043Z",
     "shell.execute_reply": "2020-11-26T15:51:27.477577Z",
     "shell.execute_reply.started": "2020-11-26T15:51:27.280735Z"
    }
   },
   "outputs": [],
   "source": [
    "import seaborn as sns\n",
    "sns.set(\n",
    "    style='whitegrid', \n",
    "    color_codes=True\n",
    ")"
   ]
  },
  {
   "cell_type": "code",
   "execution_count": 4,
   "metadata": {
    "execution": {
     "iopub.execute_input": "2020-11-26T15:51:27.478879Z",
     "iopub.status.busy": "2020-11-26T15:51:27.478758Z",
     "iopub.status.idle": "2020-11-26T15:51:27.481664Z",
     "shell.execute_reply": "2020-11-26T15:51:27.481088Z",
     "shell.execute_reply.started": "2020-11-26T15:51:27.478865Z"
    }
   },
   "outputs": [],
   "source": [
    "plt.style.use(\"ggplot\")\n",
    "plt.rcParams['figure.figsize'] = (12, 8)"
   ]
  },
  {
   "cell_type": "markdown",
   "metadata": {},
   "source": [
    "## Warning filter"
   ]
  },
  {
   "cell_type": "code",
   "execution_count": 5,
   "metadata": {
    "execution": {
     "iopub.execute_input": "2020-11-26T15:51:27.482559Z",
     "iopub.status.busy": "2020-11-26T15:51:27.482423Z",
     "iopub.status.idle": "2020-11-26T15:51:27.484807Z",
     "shell.execute_reply": "2020-11-26T15:51:27.484402Z",
     "shell.execute_reply.started": "2020-11-26T15:51:27.482543Z"
    }
   },
   "outputs": [],
   "source": [
    "import warnings"
   ]
  },
  {
   "cell_type": "code",
   "execution_count": 6,
   "metadata": {
    "execution": {
     "iopub.execute_input": "2020-11-26T15:51:27.485743Z",
     "iopub.status.busy": "2020-11-26T15:51:27.485540Z",
     "iopub.status.idle": "2020-11-26T15:51:27.487982Z",
     "shell.execute_reply": "2020-11-26T15:51:27.487465Z",
     "shell.execute_reply.started": "2020-11-26T15:51:27.485728Z"
    }
   },
   "outputs": [],
   "source": [
    "warnings.filterwarnings('ignore')"
   ]
  },
  {
   "cell_type": "markdown",
   "metadata": {},
   "source": [
    "## SQL Queries"
   ]
  },
  {
   "cell_type": "code",
   "execution_count": 7,
   "metadata": {
    "execution": {
     "iopub.execute_input": "2020-11-26T15:51:27.492105Z",
     "iopub.status.busy": "2020-11-26T15:51:27.491928Z",
     "iopub.status.idle": "2020-11-26T15:51:27.494908Z",
     "shell.execute_reply": "2020-11-26T15:51:27.494436Z",
     "shell.execute_reply.started": "2020-11-26T15:51:27.492091Z"
    }
   },
   "outputs": [],
   "source": [
    "X_Query: str = '''\n",
    "SELECT \n",
    "    \"ROW_1_1\" as \"ROW_1_1\",\n",
    "    \"ROW_1_2\" as \"ROW_1_2\",\n",
    "    \"ROW_1_3\" as \"ROW_1_3\",\n",
    "    \"ROW_2_1\" as \"ROW_2_1\",\n",
    "    \"ROW_2_2\" as \"ROW_2_2\",\n",
    "    \"ROW_2_3\" as \"ROW_2_3\",\n",
    "    \"ROW_3_1\" as \"ROW_3_1\",\n",
    "    \"ROW_3_2\" as \"ROW_3_2\",\n",
    "    \"ROW_3_3\" as \"ROW_3_3\"\n",
    "FROM \"tic-tac-toe\";\n",
    "'''.strip()"
   ]
  },
  {
   "cell_type": "code",
   "execution_count": 8,
   "metadata": {
    "execution": {
     "iopub.execute_input": "2020-11-26T15:51:27.496484Z",
     "iopub.status.busy": "2020-11-26T15:51:27.496352Z",
     "iopub.status.idle": "2020-11-26T15:51:27.501736Z",
     "shell.execute_reply": "2020-11-26T15:51:27.500089Z",
     "shell.execute_reply.started": "2020-11-26T15:51:27.496469Z"
    }
   },
   "outputs": [],
   "source": [
    "y_Query: str = '''\n",
    "SELECT \n",
    "    \"RESULT\" as \"RESULT\" \n",
    "FROM \"tic-tac-toe\";\n",
    "'''.strip()"
   ]
  },
  {
   "cell_type": "markdown",
   "metadata": {},
   "source": [
    "## Reading Dataset"
   ]
  },
  {
   "cell_type": "code",
   "execution_count": 9,
   "metadata": {
    "execution": {
     "iopub.execute_input": "2020-11-26T15:51:27.503259Z",
     "iopub.status.busy": "2020-11-26T15:51:27.502768Z",
     "iopub.status.idle": "2020-11-26T15:51:27.506535Z",
     "shell.execute_reply": "2020-11-26T15:51:27.506030Z",
     "shell.execute_reply.started": "2020-11-26T15:51:27.503233Z"
    }
   },
   "outputs": [],
   "source": [
    "conn = sqlite3.connect(\"data/Tic-Tac-Toe.sqlite3\")"
   ]
  },
  {
   "cell_type": "code",
   "execution_count": 10,
   "metadata": {
    "execution": {
     "iopub.execute_input": "2020-11-26T15:51:27.507298Z",
     "iopub.status.busy": "2020-11-26T15:51:27.507115Z",
     "iopub.status.idle": "2020-11-26T15:51:27.587122Z",
     "shell.execute_reply": "2020-11-26T15:51:27.586519Z",
     "shell.execute_reply.started": "2020-11-26T15:51:27.507283Z"
    }
   },
   "outputs": [],
   "source": [
    "X = pd.read_sql(\n",
    "    sql=X_Query, \n",
    "    con=conn\n",
    ")"
   ]
  },
  {
   "cell_type": "code",
   "execution_count": 11,
   "metadata": {
    "execution": {
     "iopub.execute_input": "2020-11-26T15:51:27.588042Z",
     "iopub.status.busy": "2020-11-26T15:51:27.587851Z",
     "iopub.status.idle": "2020-11-26T15:51:27.597444Z",
     "shell.execute_reply": "2020-11-26T15:51:27.596987Z",
     "shell.execute_reply.started": "2020-11-26T15:51:27.588024Z"
    }
   },
   "outputs": [],
   "source": [
    "y = pd.read_sql(\n",
    "    sql=y_Query, \n",
    "    con=conn\n",
    ")"
   ]
  },
  {
   "cell_type": "code",
   "execution_count": 12,
   "metadata": {
    "execution": {
     "iopub.execute_input": "2020-11-26T15:51:27.598097Z",
     "iopub.status.busy": "2020-11-26T15:51:27.597979Z",
     "iopub.status.idle": "2020-11-26T15:51:27.599978Z",
     "shell.execute_reply": "2020-11-26T15:51:27.599649Z",
     "shell.execute_reply.started": "2020-11-26T15:51:27.598083Z"
    }
   },
   "outputs": [],
   "source": [
    "X_columns: list = X.columns.to_list()"
   ]
  },
  {
   "cell_type": "code",
   "execution_count": 13,
   "metadata": {
    "execution": {
     "iopub.execute_input": "2020-11-26T15:51:27.605613Z",
     "iopub.status.busy": "2020-11-26T15:51:27.605498Z",
     "iopub.status.idle": "2020-11-26T15:51:27.608080Z",
     "shell.execute_reply": "2020-11-26T15:51:27.607529Z",
     "shell.execute_reply.started": "2020-11-26T15:51:27.605599Z"
    }
   },
   "outputs": [],
   "source": [
    "y_columns: list = y.columns.to_list()"
   ]
  },
  {
   "cell_type": "code",
   "execution_count": 14,
   "metadata": {},
   "outputs": [
    {
     "data": {
      "text/html": [
       "<div>\n",
       "<style scoped>\n",
       "    .dataframe tbody tr th:only-of-type {\n",
       "        vertical-align: middle;\n",
       "    }\n",
       "\n",
       "    .dataframe tbody tr th {\n",
       "        vertical-align: top;\n",
       "    }\n",
       "\n",
       "    .dataframe thead th {\n",
       "        text-align: right;\n",
       "    }\n",
       "</style>\n",
       "<table border=\"1\" class=\"dataframe\">\n",
       "  <thead>\n",
       "    <tr style=\"text-align: right;\">\n",
       "      <th></th>\n",
       "      <th>ROW_1_1</th>\n",
       "      <th>ROW_1_2</th>\n",
       "      <th>ROW_1_3</th>\n",
       "      <th>ROW_2_1</th>\n",
       "      <th>ROW_2_2</th>\n",
       "      <th>ROW_2_3</th>\n",
       "      <th>ROW_3_1</th>\n",
       "      <th>ROW_3_2</th>\n",
       "      <th>ROW_3_3</th>\n",
       "    </tr>\n",
       "  </thead>\n",
       "  <tbody>\n",
       "    <tr>\n",
       "      <th>0</th>\n",
       "      <td>x</td>\n",
       "      <td>x</td>\n",
       "      <td>x</td>\n",
       "      <td>x</td>\n",
       "      <td>o</td>\n",
       "      <td>o</td>\n",
       "      <td>x</td>\n",
       "      <td>o</td>\n",
       "      <td>o</td>\n",
       "    </tr>\n",
       "    <tr>\n",
       "      <th>1</th>\n",
       "      <td>x</td>\n",
       "      <td>x</td>\n",
       "      <td>x</td>\n",
       "      <td>x</td>\n",
       "      <td>o</td>\n",
       "      <td>o</td>\n",
       "      <td>o</td>\n",
       "      <td>x</td>\n",
       "      <td>o</td>\n",
       "    </tr>\n",
       "    <tr>\n",
       "      <th>2</th>\n",
       "      <td>x</td>\n",
       "      <td>x</td>\n",
       "      <td>x</td>\n",
       "      <td>x</td>\n",
       "      <td>o</td>\n",
       "      <td>o</td>\n",
       "      <td>o</td>\n",
       "      <td>o</td>\n",
       "      <td>x</td>\n",
       "    </tr>\n",
       "    <tr>\n",
       "      <th>3</th>\n",
       "      <td>x</td>\n",
       "      <td>x</td>\n",
       "      <td>x</td>\n",
       "      <td>x</td>\n",
       "      <td>o</td>\n",
       "      <td>o</td>\n",
       "      <td>o</td>\n",
       "      <td>b</td>\n",
       "      <td>b</td>\n",
       "    </tr>\n",
       "    <tr>\n",
       "      <th>4</th>\n",
       "      <td>x</td>\n",
       "      <td>x</td>\n",
       "      <td>x</td>\n",
       "      <td>x</td>\n",
       "      <td>o</td>\n",
       "      <td>o</td>\n",
       "      <td>b</td>\n",
       "      <td>o</td>\n",
       "      <td>b</td>\n",
       "    </tr>\n",
       "  </tbody>\n",
       "</table>\n",
       "</div>"
      ],
      "text/plain": [
       "  ROW_1_1 ROW_1_2 ROW_1_3 ROW_2_1 ROW_2_2 ROW_2_3 ROW_3_1 ROW_3_2 ROW_3_3\n",
       "0       x       x       x       x       o       o       x       o       o\n",
       "1       x       x       x       x       o       o       o       x       o\n",
       "2       x       x       x       x       o       o       o       o       x\n",
       "3       x       x       x       x       o       o       o       b       b\n",
       "4       x       x       x       x       o       o       b       o       b"
      ]
     },
     "execution_count": 14,
     "metadata": {},
     "output_type": "execute_result"
    }
   ],
   "source": [
    "X.head()"
   ]
  },
  {
   "cell_type": "markdown",
   "metadata": {},
   "source": [
    "## Label Encoding"
   ]
  },
  {
   "cell_type": "code",
   "execution_count": 15,
   "metadata": {
    "execution": {
     "iopub.execute_input": "2020-11-26T15:51:27.612438Z",
     "iopub.status.busy": "2020-11-26T15:51:27.612286Z",
     "iopub.status.idle": "2020-11-26T15:51:27.616990Z",
     "shell.execute_reply": "2020-11-26T15:51:27.616574Z",
     "shell.execute_reply.started": "2020-11-26T15:51:27.612423Z"
    }
   },
   "outputs": [
    {
     "data": {
      "text/plain": [
       "positive    626\n",
       "negative    332\n",
       "Name: RESULT, dtype: int64"
      ]
     },
     "execution_count": 15,
     "metadata": {},
     "output_type": "execute_result"
    }
   ],
   "source": [
    "y[y_columns[0]].value_counts()"
   ]
  },
  {
   "cell_type": "code",
   "execution_count": 16,
   "metadata": {
    "execution": {
     "iopub.execute_input": "2020-11-26T15:51:27.617720Z",
     "iopub.status.busy": "2020-11-26T15:51:27.617596Z",
     "iopub.status.idle": "2020-11-26T15:51:27.679849Z",
     "shell.execute_reply": "2020-11-26T15:51:27.679283Z",
     "shell.execute_reply.started": "2020-11-26T15:51:27.617705Z"
    }
   },
   "outputs": [],
   "source": [
    "from sklearn.preprocessing import LabelEncoder\n",
    "\n",
    "labelEncoder = LabelEncoder()\n",
    "labelEncoder.fit(y[y_columns[0]])\n",
    "y[y_columns[0]] = pd.DataFrame(labelEncoder.transform(y[y_columns[0]]))"
   ]
  },
  {
   "cell_type": "code",
   "execution_count": 17,
   "metadata": {
    "execution": {
     "iopub.execute_input": "2020-11-26T15:51:27.680624Z",
     "iopub.status.busy": "2020-11-26T15:51:27.680480Z",
     "iopub.status.idle": "2020-11-26T15:51:27.684135Z",
     "shell.execute_reply": "2020-11-26T15:51:27.683652Z",
     "shell.execute_reply.started": "2020-11-26T15:51:27.680607Z"
    }
   },
   "outputs": [],
   "source": [
    "df = pd.concat(\n",
    "    objs=[X, y], \n",
    "    ignore_index=False, \n",
    "    sort=False, \n",
    "    axis=1\n",
    ")"
   ]
  },
  {
   "cell_type": "code",
   "execution_count": 18,
   "metadata": {
    "execution": {
     "iopub.execute_input": "2020-11-26T15:51:27.684846Z",
     "iopub.status.busy": "2020-11-26T15:51:27.684721Z",
     "iopub.status.idle": "2020-11-26T15:51:27.686911Z",
     "shell.execute_reply": "2020-11-26T15:51:27.686498Z",
     "shell.execute_reply.started": "2020-11-26T15:51:27.684831Z"
    }
   },
   "outputs": [],
   "source": [
    "conn.close()"
   ]
  },
  {
   "cell_type": "code",
   "execution_count": 19,
   "metadata": {
    "execution": {
     "iopub.execute_input": "2020-11-26T15:51:27.687604Z",
     "iopub.status.busy": "2020-11-26T15:51:27.687482Z",
     "iopub.status.idle": "2020-11-26T15:51:27.690688Z",
     "shell.execute_reply": "2020-11-26T15:51:27.690212Z",
     "shell.execute_reply.started": "2020-11-26T15:51:27.687590Z"
    }
   },
   "outputs": [
    {
     "data": {
      "text/plain": [
       "(958, 9)"
      ]
     },
     "execution_count": 19,
     "metadata": {},
     "output_type": "execute_result"
    }
   ],
   "source": [
    "X.shape"
   ]
  },
  {
   "cell_type": "code",
   "execution_count": 20,
   "metadata": {
    "execution": {
     "iopub.execute_input": "2020-11-26T15:51:27.691413Z",
     "iopub.status.busy": "2020-11-26T15:51:27.691288Z",
     "iopub.status.idle": "2020-11-26T15:51:27.694103Z",
     "shell.execute_reply": "2020-11-26T15:51:27.693668Z",
     "shell.execute_reply.started": "2020-11-26T15:51:27.691395Z"
    }
   },
   "outputs": [
    {
     "data": {
      "text/plain": [
       "(958, 1)"
      ]
     },
     "execution_count": 20,
     "metadata": {},
     "output_type": "execute_result"
    }
   ],
   "source": [
    "y.shape"
   ]
  },
  {
   "cell_type": "code",
   "execution_count": 21,
   "metadata": {
    "execution": {
     "iopub.execute_input": "2020-11-26T15:51:27.694887Z",
     "iopub.status.busy": "2020-11-26T15:51:27.694668Z",
     "iopub.status.idle": "2020-11-26T15:51:27.697558Z",
     "shell.execute_reply": "2020-11-26T15:51:27.697102Z",
     "shell.execute_reply.started": "2020-11-26T15:51:27.694870Z"
    }
   },
   "outputs": [
    {
     "data": {
      "text/plain": [
       "(958, 10)"
      ]
     },
     "execution_count": 21,
     "metadata": {},
     "output_type": "execute_result"
    }
   ],
   "source": [
    "df.shape"
   ]
  },
  {
   "cell_type": "markdown",
   "metadata": {},
   "source": [
    "## Datatype Fixing of the Categorical data of y"
   ]
  },
  {
   "cell_type": "code",
   "execution_count": 22,
   "metadata": {
    "execution": {
     "iopub.execute_input": "2020-11-26T15:51:27.698242Z",
     "iopub.status.busy": "2020-11-26T15:51:27.698122Z",
     "iopub.status.idle": "2020-11-26T15:51:27.701298Z",
     "shell.execute_reply": "2020-11-26T15:51:27.700824Z",
     "shell.execute_reply.started": "2020-11-26T15:51:27.698228Z"
    }
   },
   "outputs": [],
   "source": [
    "for col in y_columns:\n",
    "    y[col] = y[col].astype('category')"
   ]
  },
  {
   "cell_type": "code",
   "execution_count": 23,
   "metadata": {
    "execution": {
     "iopub.execute_input": "2020-11-26T15:51:28.005356Z",
     "iopub.status.busy": "2020-11-26T15:51:28.005232Z",
     "iopub.status.idle": "2020-11-26T15:51:28.096212Z",
     "shell.execute_reply": "2020-11-26T15:51:28.095735Z",
     "shell.execute_reply.started": "2020-11-26T15:51:28.005341Z"
    }
   },
   "outputs": [
    {
     "name": "stdout",
     "output_type": "stream",
     "text": [
      "1    626\n",
      "0    332\n",
      "Name: RESULT, dtype: int64\n"
     ]
    },
    {
     "data": {
      "image/png": "[encoded data removed]",
      "text/plain": [
       "<Figure size 432x432 with 1 Axes>"
      ]
     },
     "metadata": {},
     "output_type": "display_data"
    }
   ],
   "source": [
    "print(y[y_columns[0]].value_counts())\n",
    "plt.figure(\n",
    "    figsize=(6, 6)\n",
    ")\n",
    "sns.countplot(\n",
    "    x=y[y_columns[0]]\n",
    ");"
   ]
  },
  {
   "cell_type": "markdown",
   "metadata": {},
   "source": [
    "## Dummy Variable "
   ]
  },
  {
   "cell_type": "code",
   "execution_count": 24,
   "metadata": {
    "execution": {
     "iopub.execute_input": "2020-11-26T15:51:28.097963Z",
     "iopub.status.busy": "2020-11-26T15:51:28.097839Z",
     "iopub.status.idle": "2020-11-26T15:51:28.112726Z",
     "shell.execute_reply": "2020-11-26T15:51:28.112239Z",
     "shell.execute_reply.started": "2020-11-26T15:51:28.097948Z"
    }
   },
   "outputs": [],
   "source": [
    "from sklearn.preprocessing import MinMaxScaler, StandardScaler\n",
    "\n",
    "X = pd.get_dummies(\n",
    "    X, \n",
    "    columns=X_columns\n",
    ")"
   ]
  },
  {
   "cell_type": "code",
   "execution_count": 25,
   "metadata": {},
   "outputs": [
    {
     "data": {
      "text/html": [
       "<div>\n",
       "<style scoped>\n",
       "    .dataframe tbody tr th:only-of-type {\n",
       "        vertical-align: middle;\n",
       "    }\n",
       "\n",
       "    .dataframe tbody tr th {\n",
       "        vertical-align: top;\n",
       "    }\n",
       "\n",
       "    .dataframe thead th {\n",
       "        text-align: right;\n",
       "    }\n",
       "</style>\n",
       "<table border=\"1\" class=\"dataframe\">\n",
       "  <thead>\n",
       "    <tr style=\"text-align: right;\">\n",
       "      <th></th>\n",
       "      <th>ROW_1_1_b</th>\n",
       "      <th>ROW_1_1_o</th>\n",
       "      <th>ROW_1_1_x</th>\n",
       "      <th>ROW_1_2_b</th>\n",
       "      <th>ROW_1_2_o</th>\n",
       "      <th>ROW_1_2_x</th>\n",
       "      <th>ROW_1_3_b</th>\n",
       "      <th>ROW_1_3_o</th>\n",
       "      <th>ROW_1_3_x</th>\n",
       "      <th>ROW_2_1_b</th>\n",
       "      <th>...</th>\n",
       "      <th>ROW_2_3_x</th>\n",
       "      <th>ROW_3_1_b</th>\n",
       "      <th>ROW_3_1_o</th>\n",
       "      <th>ROW_3_1_x</th>\n",
       "      <th>ROW_3_2_b</th>\n",
       "      <th>ROW_3_2_o</th>\n",
       "      <th>ROW_3_2_x</th>\n",
       "      <th>ROW_3_3_b</th>\n",
       "      <th>ROW_3_3_o</th>\n",
       "      <th>ROW_3_3_x</th>\n",
       "    </tr>\n",
       "  </thead>\n",
       "  <tbody>\n",
       "    <tr>\n",
       "      <th>0</th>\n",
       "      <td>0</td>\n",
       "      <td>0</td>\n",
       "      <td>1</td>\n",
       "      <td>0</td>\n",
       "      <td>0</td>\n",
       "      <td>1</td>\n",
       "      <td>0</td>\n",
       "      <td>0</td>\n",
       "      <td>1</td>\n",
       "      <td>0</td>\n",
       "      <td>...</td>\n",
       "      <td>0</td>\n",
       "      <td>0</td>\n",
       "      <td>0</td>\n",
       "      <td>1</td>\n",
       "      <td>0</td>\n",
       "      <td>1</td>\n",
       "      <td>0</td>\n",
       "      <td>0</td>\n",
       "      <td>1</td>\n",
       "      <td>0</td>\n",
       "    </tr>\n",
       "    <tr>\n",
       "      <th>1</th>\n",
       "      <td>0</td>\n",
       "      <td>0</td>\n",
       "      <td>1</td>\n",
       "      <td>0</td>\n",
       "      <td>0</td>\n",
       "      <td>1</td>\n",
       "      <td>0</td>\n",
       "      <td>0</td>\n",
       "      <td>1</td>\n",
       "      <td>0</td>\n",
       "      <td>...</td>\n",
       "      <td>0</td>\n",
       "      <td>0</td>\n",
       "      <td>1</td>\n",
       "      <td>0</td>\n",
       "      <td>0</td>\n",
       "      <td>0</td>\n",
       "      <td>1</td>\n",
       "      <td>0</td>\n",
       "      <td>1</td>\n",
       "      <td>0</td>\n",
       "    </tr>\n",
       "    <tr>\n",
       "      <th>2</th>\n",
       "      <td>0</td>\n",
       "      <td>0</td>\n",
       "      <td>1</td>\n",
       "      <td>0</td>\n",
       "      <td>0</td>\n",
       "      <td>1</td>\n",
       "      <td>0</td>\n",
       "      <td>0</td>\n",
       "      <td>1</td>\n",
       "      <td>0</td>\n",
       "      <td>...</td>\n",
       "      <td>0</td>\n",
       "      <td>0</td>\n",
       "      <td>1</td>\n",
       "      <td>0</td>\n",
       "      <td>0</td>\n",
       "      <td>1</td>\n",
       "      <td>0</td>\n",
       "      <td>0</td>\n",
       "      <td>0</td>\n",
       "      <td>1</td>\n",
       "    </tr>\n",
       "    <tr>\n",
       "      <th>3</th>\n",
       "      <td>0</td>\n",
       "      <td>0</td>\n",
       "      <td>1</td>\n",
       "      <td>0</td>\n",
       "      <td>0</td>\n",
       "      <td>1</td>\n",
       "      <td>0</td>\n",
       "      <td>0</td>\n",
       "      <td>1</td>\n",
       "      <td>0</td>\n",
       "      <td>...</td>\n",
       "      <td>0</td>\n",
       "      <td>0</td>\n",
       "      <td>1</td>\n",
       "      <td>0</td>\n",
       "      <td>1</td>\n",
       "      <td>0</td>\n",
       "      <td>0</td>\n",
       "      <td>1</td>\n",
       "      <td>0</td>\n",
       "      <td>0</td>\n",
       "    </tr>\n",
       "    <tr>\n",
       "      <th>4</th>\n",
       "      <td>0</td>\n",
       "      <td>0</td>\n",
       "      <td>1</td>\n",
       "      <td>0</td>\n",
       "      <td>0</td>\n",
       "      <td>1</td>\n",
       "      <td>0</td>\n",
       "      <td>0</td>\n",
       "      <td>1</td>\n",
       "      <td>0</td>\n",
       "      <td>...</td>\n",
       "      <td>0</td>\n",
       "      <td>1</td>\n",
       "      <td>0</td>\n",
       "      <td>0</td>\n",
       "      <td>0</td>\n",
       "      <td>1</td>\n",
       "      <td>0</td>\n",
       "      <td>1</td>\n",
       "      <td>0</td>\n",
       "      <td>0</td>\n",
       "    </tr>\n",
       "  </tbody>\n",
       "</table>\n",
       "<p>5 rows × 27 columns</p>\n",
       "</div>"
      ],
      "text/plain": [
       "   ROW_1_1_b  ROW_1_1_o  ROW_1_1_x  ROW_1_2_b  ROW_1_2_o  ROW_1_2_x  \\\n",
       "0          0          0          1          0          0          1   \n",
       "1          0          0          1          0          0          1   \n",
       "2          0          0          1          0          0          1   \n",
       "3          0          0          1          0          0          1   \n",
       "4          0          0          1          0          0          1   \n",
       "\n",
       "   ROW_1_3_b  ROW_1_3_o  ROW_1_3_x  ROW_2_1_b  ...  ROW_2_3_x  ROW_3_1_b  \\\n",
       "0          0          0          1          0  ...          0          0   \n",
       "1          0          0          1          0  ...          0          0   \n",
       "2          0          0          1          0  ...          0          0   \n",
       "3          0          0          1          0  ...          0          0   \n",
       "4          0          0          1          0  ...          0          1   \n",
       "\n",
       "   ROW_3_1_o  ROW_3_1_x  ROW_3_2_b  ROW_3_2_o  ROW_3_2_x  ROW_3_3_b  \\\n",
       "0          0          1          0          1          0          0   \n",
       "1          1          0          0          0          1          0   \n",
       "2          1          0          0          1          0          0   \n",
       "3          1          0          1          0          0          1   \n",
       "4          0          0          0          1          0          1   \n",
       "\n",
       "   ROW_3_3_o  ROW_3_3_x  \n",
       "0          1          0  \n",
       "1          1          0  \n",
       "2          0          1  \n",
       "3          0          0  \n",
       "4          0          0  \n",
       "\n",
       "[5 rows x 27 columns]"
      ]
     },
     "execution_count": 25,
     "metadata": {},
     "output_type": "execute_result"
    }
   ],
   "source": [
    "X.head()"
   ]
  },
  {
   "cell_type": "markdown",
   "metadata": {},
   "source": [
    "## Splitting the dataset into the Training set and Test set"
   ]
  },
  {
   "cell_type": "code",
   "execution_count": 26,
   "metadata": {
    "execution": {
     "iopub.execute_input": "2020-11-26T15:51:28.113544Z",
     "iopub.status.busy": "2020-11-26T15:51:28.113421Z",
     "iopub.status.idle": "2020-11-26T15:51:28.163292Z",
     "shell.execute_reply": "2020-11-26T15:51:28.162813Z",
     "shell.execute_reply.started": "2020-11-26T15:51:28.113530Z"
    }
   },
   "outputs": [],
   "source": [
    "from sklearn.model_selection import train_test_split\n",
    "\n",
    "X_train, X_test, y_train, y_test = train_test_split(\n",
    "    X, y,\n",
    "    test_size=0.30,\n",
    "    random_state=1,\n",
    "    stratify=y\n",
    ")"
   ]
  },
  {
   "cell_type": "markdown",
   "metadata": {},
   "source": [
    "## Classifier"
   ]
  },
  {
   "cell_type": "code",
   "execution_count": 27,
   "metadata": {
    "execution": {
     "iopub.execute_input": "2020-11-26T15:51:28.163959Z",
     "iopub.status.busy": "2020-11-26T15:51:28.163829Z",
     "iopub.status.idle": "2020-11-26T15:51:28.202493Z",
     "shell.execute_reply": "2020-11-26T15:51:28.201982Z",
     "shell.execute_reply.started": "2020-11-26T15:51:28.163944Z"
    }
   },
   "outputs": [],
   "source": [
    "from xgboost import XGBClassifier\n",
    "from sklearn.ensemble import AdaBoostClassifier\n",
    "from sklearn.naive_bayes import GaussianNB, MultinomialNB\n",
    "from sklearn.linear_model import LogisticRegression\n",
    "from sklearn.neighbors import KNeighborsClassifier\n",
    "from sklearn.metrics import accuracy_score, classification_report\n",
    "from sklearn.metrics import confusion_matrix"
   ]
  },
  {
   "cell_type": "markdown",
   "metadata": {},
   "source": [
    "## XGboost"
   ]
  },
  {
   "cell_type": "code",
   "execution_count": 28,
   "metadata": {
    "execution": {
     "iopub.execute_input": "2020-11-26T15:51:28.203180Z",
     "iopub.status.busy": "2020-11-26T15:51:28.203058Z",
     "iopub.status.idle": "2020-11-26T15:51:32.623387Z",
     "shell.execute_reply": "2020-11-26T15:51:32.622924Z",
     "shell.execute_reply.started": "2020-11-26T15:51:28.203165Z"
    }
   },
   "outputs": [
    {
     "name": "stdout",
     "output_type": "stream",
     "text": [
      "[[100   0]\n",
      " [  1 187]]\n",
      "Accuracy: 99.65%\n",
      "              precision    recall  f1-score   support\n",
      "\n",
      "    Phishing    0.99010   1.00000   0.99502       100\n",
      "  Legitimate    1.00000   0.99468   0.99733       188\n",
      "\n",
      "    accuracy                        0.99653       288\n",
      "   macro avg    0.99505   0.99734   0.99618       288\n",
      "weighted avg    0.99656   0.99653   0.99653       288\n",
      "\n"
     ]
    }
   ],
   "source": [
    "classifier = XGBClassifier(\n",
    "    booster = 'gbtree',\n",
    "    max_depth=5,\n",
    "    n_estimators=1500,\n",
    "    learning_rate=0.3,\n",
    "    importance_type='gain',\n",
    "    random_state= 0,\n",
    "    n_jobs=8\n",
    ")\n",
    "classifier.fit(X_train, y_train);\n",
    "prediction = classifier.predict(X_test)\n",
    "cm = confusion_matrix(\n",
    "    y_true=y_test, \n",
    "    y_pred=prediction\n",
    ")\n",
    "print(cm)\n",
    "print(\"Accuracy: {}%\".format(round(accuracy_score(y_test, prediction) * 100, 2)))\n",
    "print(\n",
    "    classification_report(\n",
    "        y_true=y_test,\n",
    "        y_pred=prediction,\n",
    "        target_names=['Phishing', 'Legitimate'],\n",
    "        zero_division='warn',\n",
    "        digits=5\n",
    "    )\n",
    ")"
   ]
  },
  {
   "cell_type": "markdown",
   "metadata": {},
   "source": [
    "## Logistic Regression"
   ]
  },
  {
   "cell_type": "code",
   "execution_count": 29,
   "metadata": {
    "execution": {
     "iopub.execute_input": "2020-11-26T15:51:32.624153Z",
     "iopub.status.busy": "2020-11-26T15:51:32.624032Z",
     "iopub.status.idle": "2020-11-26T15:51:32.701787Z",
     "shell.execute_reply": "2020-11-26T15:51:32.701398Z",
     "shell.execute_reply.started": "2020-11-26T15:51:32.624138Z"
    }
   },
   "outputs": [
    {
     "name": "stdout",
     "output_type": "stream",
     "text": [
      "[[ 98   2]\n",
      " [  0 188]]\n",
      "Accuracy: 99.31%\n",
      "              precision    recall  f1-score   support\n",
      "\n",
      "    Phishing    1.00000   0.98000   0.98990       100\n",
      "  Legitimate    0.98947   1.00000   0.99471       188\n",
      "\n",
      "    accuracy                        0.99306       288\n",
      "   macro avg    0.99474   0.99000   0.99230       288\n",
      "weighted avg    0.99313   0.99306   0.99304       288\n",
      "\n"
     ]
    }
   ],
   "source": [
    "classifier = LogisticRegression()\n",
    "classifier.fit(X_train, y_train);\n",
    "prediction = classifier.predict(X_test)\n",
    "cm = confusion_matrix(\n",
    "    y_true=y_test, \n",
    "    y_pred=prediction\n",
    ")\n",
    "print(cm)\n",
    "print(\"Accuracy: {}%\".format(round(accuracy_score(y_test, prediction) * 100, 2)))\n",
    "print(\n",
    "    classification_report(\n",
    "        y_true=y_test,\n",
    "        y_pred=prediction,\n",
    "        target_names=['Phishing', 'Legitimate'],\n",
    "        zero_division='warn',\n",
    "        digits=5\n",
    "    )\n",
    ")"
   ]
  },
  {
   "cell_type": "markdown",
   "metadata": {},
   "source": [
    "## Gaussian Naive Bayes"
   ]
  },
  {
   "cell_type": "code",
   "execution_count": 30,
   "metadata": {
    "execution": {
     "iopub.execute_input": "2020-11-26T15:51:32.702808Z",
     "iopub.status.busy": "2020-11-26T15:51:32.702549Z",
     "iopub.status.idle": "2020-11-26T15:51:32.741011Z",
     "shell.execute_reply": "2020-11-26T15:51:32.740563Z",
     "shell.execute_reply.started": "2020-11-26T15:51:32.702791Z"
    }
   },
   "outputs": [
    {
     "name": "stdout",
     "output_type": "stream",
     "text": [
      "[[ 50  50]\n",
      " [ 37 151]]\n",
      "Accuracy: 69.79%\n",
      "              precision    recall  f1-score   support\n",
      "\n",
      "    Phishing    0.57471   0.50000   0.53476       100\n",
      "  Legitimate    0.75124   0.80319   0.77635       188\n",
      "\n",
      "    accuracy                        0.69792       288\n",
      "   macro avg    0.66298   0.65160   0.65555       288\n",
      "weighted avg    0.68995   0.69792   0.69246       288\n",
      "\n"
     ]
    }
   ],
   "source": [
    "classifier = GaussianNB()\n",
    "classifier.fit(X_train, y_train);\n",
    "prediction = classifier.predict(X_test)\n",
    "cm = confusion_matrix(\n",
    "    y_true=y_test, \n",
    "    y_pred=prediction\n",
    ")\n",
    "print(cm)\n",
    "print(\"Accuracy: {}%\".format(round(accuracy_score(y_test, prediction) * 100, 2)))\n",
    "print(\n",
    "    classification_report(\n",
    "        y_true=y_test,\n",
    "        y_pred=prediction,\n",
    "        target_names=['Phishing', 'Legitimate'],\n",
    "        zero_division='warn',\n",
    "        digits=5\n",
    "    )\n",
    ")"
   ]
  },
  {
   "cell_type": "markdown",
   "metadata": {},
   "source": [
    "## Multinomial Naive Bayes"
   ]
  },
  {
   "cell_type": "code",
   "execution_count": 31,
   "metadata": {
    "execution": {
     "iopub.execute_input": "2020-11-26T15:51:32.749270Z",
     "iopub.status.busy": "2020-11-26T15:51:32.749103Z",
     "iopub.status.idle": "2020-11-26T15:51:32.784559Z",
     "shell.execute_reply": "2020-11-26T15:51:32.784157Z",
     "shell.execute_reply.started": "2020-11-26T15:51:32.749253Z"
    }
   },
   "outputs": [
    {
     "name": "stdout",
     "output_type": "stream",
     "text": [
      "[[ 41  59]\n",
      " [ 22 166]]\n",
      "Accuracy: 71.88%\n",
      "              precision    recall  f1-score   support\n",
      "\n",
      "    Phishing    0.65079   0.41000   0.50307       100\n",
      "  Legitimate    0.73778   0.88298   0.80387       188\n",
      "\n",
      "    accuracy                        0.71875       288\n",
      "   macro avg    0.69429   0.64649   0.65347       288\n",
      "weighted avg    0.70757   0.71875   0.69943       288\n",
      "\n"
     ]
    }
   ],
   "source": [
    "classifier = MultinomialNB()\n",
    "classifier.fit(X_train, y_train);\n",
    "prediction = classifier.predict(X_test)\n",
    "cm = confusion_matrix(\n",
    "    y_true=y_test, \n",
    "    y_pred=prediction\n",
    ")\n",
    "print(cm)\n",
    "print(\"Accuracy: {}%\".format(round(accuracy_score(y_test, prediction) * 100, 2)))\n",
    "print(\n",
    "    classification_report(\n",
    "        y_true=y_test,\n",
    "        y_pred=prediction,\n",
    "        target_names=['Phishing', 'Legitimate'],\n",
    "        zero_division='warn',\n",
    "        digits=5\n",
    "    )\n",
    ")"
   ]
  },
  {
   "cell_type": "markdown",
   "metadata": {},
   "source": [
    "## Adaboost"
   ]
  },
  {
   "cell_type": "code",
   "execution_count": 32,
   "metadata": {
    "execution": {
     "iopub.execute_input": "2020-11-26T15:51:32.787683Z",
     "iopub.status.busy": "2020-11-26T15:51:32.786640Z",
     "iopub.status.idle": "2020-11-26T15:51:33.073364Z",
     "shell.execute_reply": "2020-11-26T15:51:33.072920Z",
     "shell.execute_reply.started": "2020-11-26T15:51:32.787666Z"
    }
   },
   "outputs": [
    {
     "name": "stdout",
     "output_type": "stream",
     "text": [
      "[[ 62  38]\n",
      " [  7 181]]\n",
      "Accuracy: 84.38%\n",
      "              precision    recall  f1-score   support\n",
      "\n",
      "    Phishing    0.89855   0.62000   0.73373       100\n",
      "  Legitimate    0.82648   0.96277   0.88943       188\n",
      "\n",
      "    accuracy                        0.84375       288\n",
      "   macro avg    0.86252   0.79138   0.81158       288\n",
      "weighted avg    0.85151   0.84375   0.83537       288\n",
      "\n"
     ]
    }
   ],
   "source": [
    "classifier = AdaBoostClassifier()\n",
    "classifier.fit(X_train, y_train);\n",
    "prediction = classifier.predict(X_test)\n",
    "cm = confusion_matrix(\n",
    "    y_true=y_test, \n",
    "    y_pred=prediction\n",
    ")\n",
    "print(cm)\n",
    "print(\"Accuracy: {}%\".format(round(accuracy_score(y_test, prediction) * 100, 2)))\n",
    "print(\n",
    "    classification_report(\n",
    "        y_true=y_test,\n",
    "        y_pred=prediction,\n",
    "        target_names=['Phishing', 'Legitimate'],\n",
    "        zero_division='warn',\n",
    "        digits=5\n",
    "    )\n",
    ")"
   ]
  },
  {
   "cell_type": "markdown",
   "metadata": {},
   "source": [
    "## KNN"
   ]
  },
  {
   "cell_type": "code",
   "execution_count": 33,
   "metadata": {
    "execution": {
     "iopub.execute_input": "2020-11-26T15:51:33.074231Z",
     "iopub.status.busy": "2020-11-26T15:51:33.074059Z",
     "iopub.status.idle": "2020-11-26T15:51:34.991086Z",
     "shell.execute_reply": "2020-11-26T15:51:34.990489Z",
     "shell.execute_reply.started": "2020-11-26T15:51:33.074216Z"
    }
   },
   "outputs": [
    {
     "name": "stdout",
     "output_type": "stream",
     "text": [
      "[[ 94   6]\n",
      " [  2 186]]\n",
      "Accuracy: 97.22%\n",
      "              precision    recall  f1-score   support\n",
      "\n",
      "    Phishing    0.97917   0.94000   0.95918       100\n",
      "  Legitimate    0.96875   0.98936   0.97895       188\n",
      "\n",
      "    accuracy                        0.97222       288\n",
      "   macro avg    0.97396   0.96468   0.96907       288\n",
      "weighted avg    0.97237   0.97222   0.97208       288\n",
      "\n"
     ]
    }
   ],
   "source": [
    "classifier = KNeighborsClassifier(n_neighbors=9)\n",
    "classifier.fit(X_train, y_train);\n",
    "prediction = classifier.predict(X_test)\n",
    "cm = confusion_matrix(\n",
    "    y_true=y_test, \n",
    "    y_pred=prediction\n",
    ")\n",
    "print(cm)\n",
    "print(\"Accuracy: {}%\".format(round(accuracy_score(y_test, prediction) * 100, 2)))\n",
    "print(\n",
    "    classification_report(\n",
    "        y_true=y_test,\n",
    "        y_pred=prediction,\n",
    "        target_names=['Phishing', 'Legitimate'],\n",
    "        zero_division='warn',\n",
    "        digits=5\n",
    "    )\n",
    ")"
   ]
  }
 ],
 "metadata": {
  "kernelspec": {
   "display_name": "Python 3",
   "language": "python",
   "name": "python3"
  },
  "language_info": {
   "codemirror_mode": {
    "name": "ipython",
    "version": 3
   },
   "file_extension": ".py",
   "mimetype": "text/x-python",
   "name": "python",
   "nbconvert_exporter": "python",
   "pygments_lexer": "ipython3",
   "version": "3.8.6"
  }
 },
 "nbformat": 4,
 "nbformat_minor": 4
}
